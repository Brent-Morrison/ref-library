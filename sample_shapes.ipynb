{
 "cells": [
  {
   "cell_type": "markdown",
   "metadata": {},
   "source": [
    "## Sample shapes \n",
    "A library contaning numpyro models for future reference.  The model naming convention corresponds to models replicated in R using `brms` and `rethinking` and also in Python using `PyMC`.  \n",
    "\n",
    "### Imports"
   ]
  },
  {
   "cell_type": "code",
   "execution_count": 16,
   "metadata": {},
   "outputs": [],
   "source": [
    "from jax import random\n",
    "import jax.numpy as jnp\n",
    "import numpyro.distributions as dist"
   ]
  },
  {
   "cell_type": "markdown",
   "metadata": {},
   "source": [
    "### Random notes looking at sample shape\n",
    "\n",
    "The examples below demonstrate the difference between *sample shape* (that specified with the `sample_shape` parameter of the `sample` method) and *batch shape* (that specified with the `batch_shape` parameter of the `expand` method).\n",
    "\n",
    "Note that batch shape signifies the dimension of XXXXX.\n",
    "\n",
    "[Reference](https://ericmjl.github.io/blog/2019/5/29/reasoning-about-shapes-and-probability-distributions/)"
   ]
  },
  {
   "cell_type": "code",
   "execution_count": 17,
   "metadata": {},
   "outputs": [
    {
     "name": "stdout",
     "output_type": "stream",
     "text": [
      "[0.85365486 0.10553633 0.06130229]\n",
      "\n",
      "\n",
      "(3,)\n",
      "\n",
      "\n",
      "()\n"
     ]
    }
   ],
   "source": [
    "d = dist.Exponential(1) \\\n",
    "    .sample(random.PRNGKey(42), sample_shape=(3,))\n",
    "\n",
    "print(d)\n",
    "print(\"\\n\")\n",
    "print(d.shape)\n",
    "print(\"\\n\")\n",
    "print(dist.Exponential(1).event_shape)"
   ]
  },
  {
   "cell_type": "code",
   "execution_count": 18,
   "metadata": {},
   "outputs": [
    {
     "name": "stdout",
     "output_type": "stream",
     "text": [
      "Sample: \n",
      " [[0.85365486]\n",
      " [0.10553633]\n",
      " [0.06130229]]\n",
      "\n",
      "\n",
      "Sample shape: \n",
      " (3, 1)\n",
      "\n",
      "\n",
      "Event shape: \n",
      " ()\n"
     ]
    }
   ],
   "source": [
    "d = dist.Exponential(1) \\\n",
    "    .expand(batch_shape=(1,)) \\\n",
    "    .sample(random.PRNGKey(42), sample_shape=(3,))\n",
    "\n",
    "print('Sample: \\n', d)\n",
    "print(\"\\n\")\n",
    "print('Sample shape: \\n', d.shape)\n",
    "print(\"\\n\")\n",
    "print('Event shape: \\n', dist.Exponential(1).event_shape)"
   ]
  },
  {
   "cell_type": "code",
   "execution_count": 19,
   "metadata": {},
   "outputs": [
    {
     "name": "stdout",
     "output_type": "stream",
     "text": [
      "Sample: \n",
      " [[1.3086625  2.0340383 ]\n",
      " [2.0580726  0.23342834]\n",
      " [0.206562   0.7990092 ]]\n",
      "\n",
      "\n",
      "Sample shape: \n",
      " (3, 2)\n",
      "\n",
      "\n",
      "Event shape: \n",
      " ()\n"
     ]
    }
   ],
   "source": [
    "d = dist.Exponential(1)\n",
    "\n",
    "s = d.expand(batch_shape=(2,)) \\\n",
    "    .sample(random.PRNGKey(42), sample_shape=(3,))\n",
    "\n",
    "\n",
    "print('Sample: \\n', s)\n",
    "print(\"\\n\")\n",
    "print('Sample shape: \\n', s.shape)\n",
    "print(\"\\n\")\n",
    "print('Event shape: \\n', d.event_shape)"
   ]
  },
  {
   "cell_type": "code",
   "execution_count": 20,
   "metadata": {},
   "outputs": [
    {
     "name": "stdout",
     "output_type": "stream",
     "text": [
      "Sample: \n",
      " [[1.3086625  2.0340383 ]\n",
      " [2.0580726  0.23342834]\n",
      " [0.206562   0.7990092 ]]\n",
      "\n",
      "\n",
      "Sample shape: \n",
      " (3, 2)\n",
      "\n",
      "\n",
      "Event shape: \n",
      " ()\n"
     ]
    }
   ],
   "source": [
    "d = dist.Exponential(1)\n",
    "\n",
    "s = d.expand(batch_shape=[2]) \\\n",
    "    .sample(random.PRNGKey(42), sample_shape=(3,))\n",
    "\n",
    "\n",
    "print('Sample: \\n', s)\n",
    "print(\"\\n\")\n",
    "print('Sample shape: \\n', s.shape)\n",
    "print(\"\\n\")\n",
    "print('Event shape: \\n', d.event_shape)"
   ]
  },
  {
   "cell_type": "code",
   "execution_count": 21,
   "metadata": {},
   "outputs": [
    {
     "name": "stdout",
     "output_type": "stream",
     "text": [
      "Sample: \n",
      " [[[1.         0.44555074]\n",
      "  [0.44555074 1.        ]]]\n",
      "\n",
      "\n",
      "Sample shape: \n",
      " (1, 2, 2)\n",
      "\n",
      "\n",
      "Event shape: \n",
      " (2, 2)\n"
     ]
    }
   ],
   "source": [
    "d = dist.LKJ(2, 2)\n",
    "s = d.sample(random.PRNGKey(42), sample_shape=(1,))\n",
    "\n",
    "print('Sample: \\n', s)\n",
    "print(\"\\n\")\n",
    "print('Sample shape: \\n', s.shape)\n",
    "print(\"\\n\")\n",
    "print('Event shape: \\n', d.event_shape)"
   ]
  },
  {
   "cell_type": "code",
   "execution_count": 22,
   "metadata": {},
   "outputs": [
    {
     "name": "stdout",
     "output_type": "stream",
     "text": [
      "Sample: \n",
      " [[[[ 1.          0.44442013]\n",
      "   [ 0.44442013  1.        ]]\n",
      "\n",
      "  [[ 1.         -0.11944741]\n",
      "   [-0.11944741  1.        ]]]]\n",
      "\n",
      "\n",
      "Sample shape: \n",
      " (1, 2, 2, 2)\n",
      "\n",
      "\n",
      "Event shape: \n",
      " (2, 2)\n"
     ]
    }
   ],
   "source": [
    "d = dist.LKJ(2, 2)\n",
    "s = d.expand(batch_shape=[2]) \\\n",
    "    .sample(random.PRNGKey(42), sample_shape=(1,))\n",
    "\n",
    "print('Sample: \\n', s)\n",
    "print(\"\\n\")\n",
    "print('Sample shape: \\n', s.shape)\n",
    "print(\"\\n\")\n",
    "print('Event shape: \\n', d.event_shape)"
   ]
  },
  {
   "cell_type": "code",
   "execution_count": 23,
   "metadata": {},
   "outputs": [
    {
     "name": "stdout",
     "output_type": "stream",
     "text": [
      "Sample: \n",
      " [[[[  2.468875    2.7756164]\n",
      "   [ -0.8821709  -1.6952798]]\n",
      "\n",
      "  [[  3.147201   -1.0912826]\n",
      "   [ -4.238549  -10.6817   ]]]]\n",
      "\n",
      "\n",
      "Sample shape: \n",
      " (1, 2, 2, 2)\n",
      "\n",
      "\n",
      "Event shape: \n",
      " (2,)\n"
     ]
    }
   ],
   "source": [
    "lkj = dist.LKJ(2, 2)\n",
    "lkj_sample = lkj.expand(batch_shape=[2]) \\\n",
    "    .sample(random.PRNGKey(42), sample_shape=(2,))\n",
    "\n",
    "d = dist.MultivariateNormal(\n",
    "        loc=jnp.stack([1, 2]),\n",
    "        covariance_matrix=jnp.matmul(jnp.matmul(jnp.diag(jnp.array([3, 4])), lkj_sample), jnp.diag(jnp.array([3, 4])))\n",
    "        )\n",
    "s = d.sample(random.PRNGKey(42), sample_shape=(1,))\n",
    "\n",
    "print('Sample: \\n', s)\n",
    "print(\"\\n\")\n",
    "print('Sample shape: \\n', s.shape)\n",
    "print(\"\\n\")\n",
    "print('Event shape: \\n', d.event_shape)"
   ]
  },
  {
   "cell_type": "code",
   "execution_count": 24,
   "metadata": {},
   "outputs": [
    {
     "name": "stdout",
     "output_type": "stream",
     "text": [
      "[[[ 2.1126237  -1.5476623 ]\n",
      "  [-0.5430193   8.057651  ]\n",
      "  [-2.8950949  -2.4994526 ]\n",
      "  [ 2.6727245   3.3619635 ]\n",
      "  [-1.4942696  -0.81697655]\n",
      "  [-0.64660287 -1.1234295 ]]]\n",
      "\n",
      "\n",
      "(1, 6, 2)\n"
     ]
    }
   ],
   "source": [
    "lkj_sample = lkj.sample(random.PRNGKey(42), sample_shape=(1,))\n",
    "\n",
    "d = dist.MultivariateNormal(\n",
    "        loc=jnp.stack([1, 2]),\n",
    "        covariance_matrix=jnp.matmul(jnp.matmul(jnp.diag(jnp.array([3, 4])), lkj_sample), jnp.diag(jnp.array([3, 4])))\n",
    "        ) \\\n",
    "        .expand(batch_shape=(6,)) \\\n",
    "        .sample(random.PRNGKey(42), sample_shape=(1,))\n",
    "\n",
    "print(d)\n",
    "print(\"\\n\")\n",
    "print(d.shape)"
   ]
  },
  {
   "cell_type": "code",
   "execution_count": 25,
   "metadata": {},
   "outputs": [
    {
     "name": "stdout",
     "output_type": "stream",
     "text": [
      "[[[ 2.1126237  -1.5476623 ]]\n",
      "\n",
      " [[-0.5430193   8.057651  ]]\n",
      "\n",
      " [[-2.8950949  -2.4994526 ]]\n",
      "\n",
      " [[ 2.6727245   3.3619635 ]]\n",
      "\n",
      " [[-1.4942696  -0.81697655]]\n",
      "\n",
      " [[-0.64660287 -1.1234295 ]]]\n",
      "\n",
      "\n",
      "(6, 1, 2)\n"
     ]
    }
   ],
   "source": [
    "lkj_sample = lkj.sample(random.PRNGKey(42), sample_shape=(1,))\n",
    "\n",
    "d = dist.MultivariateNormal(\n",
    "        loc=jnp.stack([1, 2]),\n",
    "        covariance_matrix=jnp.matmul(jnp.matmul(jnp.diag(jnp.array([3, 4])), lkj_sample), jnp.diag(jnp.array([3, 4])))\n",
    "        ) \\\n",
    "        .expand(batch_shape=(1,)) \\\n",
    "        .sample(random.PRNGKey(42), sample_shape=(6,))\n",
    "\n",
    "print(d)\n",
    "print(\"\\n\")\n",
    "print(d.shape)"
   ]
  },
  {
   "cell_type": "code",
   "execution_count": 26,
   "metadata": {},
   "outputs": [
    {
     "name": "stdout",
     "output_type": "stream",
     "text": [
      "[[[ 9.        5.346609]\n",
      "  [ 5.346609 16.      ]]]\n",
      "\n",
      "\n",
      "(1, 2, 2)\n"
     ]
    }
   ],
   "source": [
    "cov_mat = jnp.matmul(jnp.matmul(jnp.diag(jnp.array([3, 4])), lkj_sample), jnp.diag(jnp.array([3, 4])))\n",
    "\n",
    "print(cov_mat)\n",
    "print(\"\\n\")\n",
    "print(cov_mat.shape)"
   ]
  }
 ],
 "metadata": {
  "interpreter": {
   "hash": "b3f9d1db237b7e693a9303baa89abe708bdbc9a3b181ec6c492493157b686686"
  },
  "kernelspec": {
   "display_name": "Python 3.9.12 ('pytorch_pyro': conda)",
   "language": "python",
   "name": "python3"
  },
  "language_info": {
   "codemirror_mode": {
    "name": "ipython",
    "version": 3
   },
   "file_extension": ".py",
   "mimetype": "text/x-python",
   "name": "python",
   "nbconvert_exporter": "python",
   "pygments_lexer": "ipython3",
   "version": "3.9.12"
  },
  "orig_nbformat": 4
 },
 "nbformat": 4,
 "nbformat_minor": 2
}
