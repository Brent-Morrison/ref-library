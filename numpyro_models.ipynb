{
 "cells": [
  {
   "cell_type": "markdown",
   "metadata": {},
   "source": [
    "## Nympyro model library  \n",
    "A library contaning numpyro models for future reference.  The model naming convention corresponds to models replicated in R using `brms` and `rethinking` and also in Python using `PyMC`.  \n",
    "\n",
    "### Imports"
   ]
  },
  {
   "cell_type": "code",
   "execution_count": 1,
   "metadata": {},
   "outputs": [
    {
     "name": "stderr",
     "output_type": "stream",
     "text": [
      "/home/brent/anaconda3/envs/pytorch_pyro/lib/python3.9/site-packages/tqdm/auto.py:22: TqdmWarning: IProgress not found. Please update jupyter and ipywidgets. See https://ipywidgets.readthedocs.io/en/stable/user_install.html\n",
      "  from .autonotebook import tqdm as notebook_tqdm\n"
     ]
    }
   ],
   "source": [
    "# from jax import grad, jit, vmap\n",
    "# import jax\n",
    "from jax import random\n",
    "import jax.numpy as jnp\n",
    "import datetime as dt\n",
    "\n",
    "# import pyro\n",
    "import numpyro\n",
    "from numpyro.infer import MCMC, NUTS, Predictive\n",
    "import numpyro.distributions as dist\n",
    "\n",
    "import pandas as pd\n",
    "import numpy as np\n",
    "from sklearn.preprocessing import LabelEncoder\n",
    "\n",
    "import matplotlib.pyplot as plt\n",
    "import arviz as az"
   ]
  },
  {
   "cell_type": "markdown",
   "metadata": {},
   "source": [
    "### Data  \n",
    "\n",
    "`stock_data.csv` contains the same data as is stored in the similarly named Rdata file in my R package [romerb](https://github.com/Brent-Morrison/romerb)"
   ]
  },
  {
   "cell_type": "code",
   "execution_count": 2,
   "metadata": {},
   "outputs": [
    {
     "data": {
      "text/html": [
       "<div>\n",
       "<style scoped>\n",
       "    .dataframe tbody tr th:only-of-type {\n",
       "        vertical-align: middle;\n",
       "    }\n",
       "\n",
       "    .dataframe tbody tr th {\n",
       "        vertical-align: top;\n",
       "    }\n",
       "\n",
       "    .dataframe thead th {\n",
       "        text-align: right;\n",
       "    }\n",
       "</style>\n",
       "<table border=\"1\" class=\"dataframe\">\n",
       "  <thead>\n",
       "    <tr style=\"text-align: right;\">\n",
       "      <th></th>\n",
       "      <th>date_stamp</th>\n",
       "      <th>symbol</th>\n",
       "      <th>log_mkt_cap</th>\n",
       "      <th>log_assets</th>\n",
       "      <th>log_equity_cln</th>\n",
       "      <th>roe</th>\n",
       "      <th>roe_s</th>\n",
       "      <th>leverage</th>\n",
       "      <th>leverage_s</th>\n",
       "      <th>sector_tf</th>\n",
       "      <th>log_pb</th>\n",
       "    </tr>\n",
       "  </thead>\n",
       "  <tbody>\n",
       "    <tr>\n",
       "      <th>53</th>\n",
       "      <td>2021-06-30</td>\n",
       "      <td>A</td>\n",
       "      <td>10.716239</td>\n",
       "      <td>9.177197</td>\n",
       "      <td>8.477204</td>\n",
       "      <td>0.166845</td>\n",
       "      <td>0.383000</td>\n",
       "      <td>0.503411</td>\n",
       "      <td>-0.688139</td>\n",
       "      <td>6</td>\n",
       "      <td>2.234926</td>\n",
       "    </tr>\n",
       "    <tr>\n",
       "      <th>86</th>\n",
       "      <td>2021-06-30</td>\n",
       "      <td>AA</td>\n",
       "      <td>8.833674</td>\n",
       "      <td>9.606428</td>\n",
       "      <td>8.520388</td>\n",
       "      <td>-0.031416</td>\n",
       "      <td>-0.353283</td>\n",
       "      <td>0.662450</td>\n",
       "      <td>0.167220</td>\n",
       "      <td>10</td>\n",
       "      <td>0.313342</td>\n",
       "    </tr>\n",
       "    <tr>\n",
       "      <th>146</th>\n",
       "      <td>2021-06-30</td>\n",
       "      <td>AAL</td>\n",
       "      <td>9.515441</td>\n",
       "      <td>11.035019</td>\n",
       "      <td>8.732434</td>\n",
       "      <td>-1.000000</td>\n",
       "      <td>-3.950308</td>\n",
       "      <td>1.110744</td>\n",
       "      <td>2.578291</td>\n",
       "      <td>0</td>\n",
       "      <td>0.783072</td>\n",
       "    </tr>\n",
       "    <tr>\n",
       "      <th>203</th>\n",
       "      <td>2021-06-30</td>\n",
       "      <td>AAN</td>\n",
       "      <td>7.672204</td>\n",
       "      <td>7.906806</td>\n",
       "      <td>7.327254</td>\n",
       "      <td>-0.165563</td>\n",
       "      <td>-0.851463</td>\n",
       "      <td>0.439851</td>\n",
       "      <td>-1.029989</td>\n",
       "      <td>0</td>\n",
       "      <td>0.345311</td>\n",
       "    </tr>\n",
       "    <tr>\n",
       "      <th>239</th>\n",
       "      <td>2021-06-30</td>\n",
       "      <td>AAP</td>\n",
       "      <td>9.518787</td>\n",
       "      <td>9.379208</td>\n",
       "      <td>8.177379</td>\n",
       "      <td>0.135932</td>\n",
       "      <td>0.268199</td>\n",
       "      <td>0.699356</td>\n",
       "      <td>0.365717</td>\n",
       "      <td>3</td>\n",
       "      <td>1.343235</td>\n",
       "    </tr>\n",
       "  </tbody>\n",
       "</table>\n",
       "</div>"
      ],
      "text/plain": [
       "    date_stamp symbol  log_mkt_cap  log_assets  log_equity_cln       roe  \\\n",
       "53  2021-06-30      A    10.716239    9.177197        8.477204  0.166845   \n",
       "86  2021-06-30     AA     8.833674    9.606428        8.520388 -0.031416   \n",
       "146 2021-06-30    AAL     9.515441   11.035019        8.732434 -1.000000   \n",
       "203 2021-06-30    AAN     7.672204    7.906806        7.327254 -0.165563   \n",
       "239 2021-06-30    AAP     9.518787    9.379208        8.177379  0.135932   \n",
       "\n",
       "        roe_s  leverage  leverage_s  sector_tf    log_pb  \n",
       "53   0.383000  0.503411   -0.688139          6  2.234926  \n",
       "86  -0.353283  0.662450    0.167220         10  0.313342  \n",
       "146 -3.950308  1.110744    2.578291          0  0.783072  \n",
       "203 -0.851463  0.439851   -1.029989          0  0.345311  \n",
       "239  0.268199  0.699356    0.365717          3  1.343235  "
      ]
     },
     "execution_count": 2,
     "metadata": {},
     "output_type": "execute_result"
    }
   ],
   "source": [
    "# Read data\n",
    "df_raw = pd.read_csv('stock_data.csv')\n",
    "\n",
    "# New df for analysis\n",
    "df1 = df_raw\n",
    "df1['date_stamp']= pd.to_datetime(df1['date_stamp'], format=\"%d/%m/%Y\")\n",
    "df1 = df1[df1['date_stamp'] == '2021-06-30'].copy()\n",
    "\n",
    "# Scale function\n",
    "scale = lambda x: (x - x.mean()) / x.std()\n",
    "\n",
    "df1['log_mkt_cap'] = np.log(df1['mkt_cap'])\n",
    "df1['log_assets'] = np.log(df1['total_assets'])\n",
    "df1['log_equity_cln'] = np.log(-df1['total_equity_cln'])\n",
    "df1['roe'] = -df1['roe']\n",
    "df1['roe_s'] = df1.roe.pipe(scale)\n",
    "df1['leverage_s'] = df1.leverage.pipe(scale)\n",
    "\n",
    "le = LabelEncoder()\n",
    "df1['sector_tf'] = le.fit_transform(df1['sector'].values)\n",
    "\n",
    "cols = ['date_stamp', 'symbol', 'log_mkt_cap', 'log_assets', 'log_equity_cln', 'roe', 'roe_s', 'leverage', 'leverage_s', 'sector_tf', 'log_pb']\n",
    "df1 = df1[cols].copy()\n",
    "\n",
    "df1.head()"
   ]
  },
  {
   "cell_type": "markdown",
   "metadata": {},
   "source": [
    "### Model 1\n",
    "\n",
    "Multi level regression WITH correlation b/w intercept and slope \n",
    "\n",
    "| Model        | Attribute description         | Attribute description         |\n",
    "| --------------------- |:------------------------------|:------------------------------|\n",
    "| symbol | the ticker symbol identifying the company | the ticker symbol identifying the company |\n",
    "| date_stamp | date_stamp | date_stamp | \n",
    "  \n",
    "  \n"
   ]
  },
  {
   "cell_type": "code",
   "execution_count": 3,
   "metadata": {},
   "outputs": [],
   "source": [
    "def m1(grp1, x1, y = None):\n",
    "    a = numpyro.sample(\"a\", dist.Normal(1.25, 1))                                        # prior for population level intercept\n",
    "    b = numpyro.sample(\"b\", dist.Normal(1, 1.5))                                         # prior for population level slope\n",
    "    #sigma_grp1 = numpyro.sample(\"sigma_grp1\", dist.Exponential(1).expand([2]))          # prior for standard deviation of group level effects ('sd' per brms)\n",
    "    sigma_grp1 = numpyro.sample('sigma_grp1', dist.Exponential(1), sample_shape=(2,))    # prior for standard deviation of group level effects ('sd' per brms)\n",
    "    Rho = numpyro.sample(\"Rho\", dist.LKJ(2, 2))                                          # prior for correlation b/w group level slopes & intercepts\n",
    "    \n",
    "    cov = jnp.matmul(jnp.matmul(jnp.diag(sigma_grp1), Rho), jnp.diag(sigma_grp1))        # construct variance / covariance mtrx b/w slopes & intercepts\n",
    "    #cov = jnp.outer(sigma_grp1, sigma_grp1) * Rho                                       # construct variance / covariance mtrx b/w slopes & intercepts (alternate)\n",
    "    \n",
    "    a_grp1_b_grp1 = numpyro.sample(\"a_grp1_b_grp1\", dist.MultivariateNormal(\n",
    "        loc=jnp.stack([a, b]), covariance_matrix=cov) \\\n",
    "        .expand(batch_shape=[11]))                    # prior for mv norm dist b/w slopes & intercepts\n",
    "    a_grp1 = a_grp1_b_grp1[:, 0]\n",
    "    b_grp1 = a_grp1_b_grp1[:, 1]\n",
    "    \n",
    "    mu = a_grp1[grp1] + b_grp1[grp1] * x1                                                # linear model\n",
    "    sigma = numpyro.sample(\"sigma\", dist.Exponential(1))                                 # prior for residual SD of response distribution\n",
    "\n",
    "    numpyro.sample(\"y\", dist.Normal(mu, sigma), obs=y)                                   # likelihood\n"
   ]
  },
  {
   "cell_type": "markdown",
   "metadata": {},
   "source": [
    "Run MCMC"
   ]
  },
  {
   "cell_type": "code",
   "execution_count": 4,
   "metadata": {},
   "outputs": [
    {
     "name": "stderr",
     "output_type": "stream",
     "text": [
      "  0%|          | 0/2000 [00:00<?, ?it/s]/home/brent/anaconda3/envs/pytorch_pyro/lib/python3.9/site-packages/jax/_src/tree_util.py:185: FutureWarning: jax.tree_util.tree_multimap() is deprecated. Please use jax.tree_util.tree_map() instead as a drop-in replacement.\n",
      "  warnings.warn('jax.tree_util.tree_multimap() is deprecated. Please use jax.tree_util.tree_map() '\n",
      "sample: 100%|██████████| 2000/2000 [00:19<00:00, 100.96it/s, 15 steps of size 4.04e-01. acc. prob=0.88]\n"
     ]
    }
   ],
   "source": [
    "m1_mcmc = MCMC(NUTS(m1), num_warmup=1000, num_samples=1000, num_chains=1)\n",
    "m1_mcmc.run(random.PRNGKey(0),  grp1=df1.sector_tf.values, x1=df1.roe.values, y=df1.log_pb.values)"
   ]
  },
  {
   "cell_type": "markdown",
   "metadata": {},
   "source": [
    "Render model"
   ]
  },
  {
   "cell_type": "code",
   "execution_count": 5,
   "metadata": {},
   "outputs": [
    {
     "data": {
      "image/svg+xml": "<?xml version=\"1.0\" encoding=\"UTF-8\" standalone=\"no\"?>\n<!DOCTYPE svg PUBLIC \"-//W3C//DTD SVG 1.1//EN\"\n \"http://www.w3.org/Graphics/SVG/1.1/DTD/svg11.dtd\">\n<!-- Generated by graphviz version 2.43.0 (0)\n -->\n<!-- Title: %3 Pages: 1 -->\n<svg width=\"660pt\" height=\"265pt\"\n viewBox=\"0.00 0.00 660.00 265.00\" xmlns=\"http://www.w3.org/2000/svg\" xmlns:xlink=\"http://www.w3.org/1999/xlink\">\n<g id=\"graph0\" class=\"graph\" transform=\"scale(1 1) rotate(0) translate(4 261)\">\n<title>%3</title>\n<polygon fill=\"white\" stroke=\"transparent\" points=\"-4,4 -4,-261 656,-261 656,4 -4,4\"/>\n<!-- a -->\n<g id=\"node1\" class=\"node\">\n<title>a</title>\n<ellipse fill=\"white\" stroke=\"black\" cx=\"27\" cy=\"-200.5\" rx=\"27\" ry=\"18\"/>\n<text text-anchor=\"middle\" x=\"27\" y=\"-196.8\" font-family=\"Times,serif\" font-size=\"14.00\">a</text>\n</g>\n<!-- a_grp1_b_grp1 -->\n<g id=\"node5\" class=\"node\">\n<title>a_grp1_b_grp1</title>\n<ellipse fill=\"white\" stroke=\"black\" cx=\"154\" cy=\"-90\" rx=\"79.09\" ry=\"18\"/>\n<text text-anchor=\"middle\" x=\"154\" y=\"-86.3\" font-family=\"Times,serif\" font-size=\"14.00\">a_grp1_b_grp1</text>\n</g>\n<!-- a&#45;&gt;a_grp1_b_grp1 -->\n<g id=\"edge1\" class=\"edge\">\n<title>a&#45;&gt;a_grp1_b_grp1</title>\n<path fill=\"none\" stroke=\"black\" d=\"M34.9,-183.23C41.27,-171.32 51.11,-155.33 63,-144 76.72,-130.93 94.25,-119.75 110.25,-111.08\"/>\n<polygon fill=\"black\" stroke=\"black\" points=\"112.22,-114 119.46,-106.27 108.97,-107.8 112.22,-114\"/>\n</g>\n<!-- b -->\n<g id=\"node2\" class=\"node\">\n<title>b</title>\n<ellipse fill=\"white\" stroke=\"black\" cx=\"99\" cy=\"-200.5\" rx=\"27\" ry=\"18\"/>\n<text text-anchor=\"middle\" x=\"99\" y=\"-196.8\" font-family=\"Times,serif\" font-size=\"14.00\">b</text>\n</g>\n<!-- b&#45;&gt;a_grp1_b_grp1 -->\n<g id=\"edge2\" class=\"edge\">\n<title>b&#45;&gt;a_grp1_b_grp1</title>\n<path fill=\"none\" stroke=\"black\" d=\"M107.35,-183.02C116.23,-165.52 130.38,-137.6 140.77,-117.1\"/>\n<polygon fill=\"black\" stroke=\"black\" points=\"143.99,-118.49 145.39,-107.99 137.74,-115.33 143.99,-118.49\"/>\n</g>\n<!-- sigma_grp1 -->\n<g id=\"node3\" class=\"node\">\n<title>sigma_grp1</title>\n<ellipse fill=\"white\" stroke=\"black\" cx=\"209\" cy=\"-200.5\" rx=\"64.99\" ry=\"18\"/>\n<text text-anchor=\"middle\" x=\"209\" y=\"-196.8\" font-family=\"Times,serif\" font-size=\"14.00\">sigma_grp1</text>\n</g>\n<!-- sigma_grp1&#45;&gt;a_grp1_b_grp1 -->\n<g id=\"edge3\" class=\"edge\">\n<title>sigma_grp1&#45;&gt;a_grp1_b_grp1</title>\n<path fill=\"none\" stroke=\"black\" d=\"M200.41,-182.55C191.54,-165.05 177.59,-137.53 167.29,-117.23\"/>\n<polygon fill=\"black\" stroke=\"black\" points=\"170.36,-115.53 162.71,-108.19 164.11,-118.69 170.36,-115.53\"/>\n</g>\n<!-- Rho -->\n<g id=\"node4\" class=\"node\">\n<title>Rho</title>\n<ellipse fill=\"white\" stroke=\"black\" cx=\"321\" cy=\"-200.5\" rx=\"28.7\" ry=\"18\"/>\n<text text-anchor=\"middle\" x=\"321\" y=\"-196.8\" font-family=\"Times,serif\" font-size=\"14.00\">Rho</text>\n</g>\n<!-- Rho&#45;&gt;a_grp1_b_grp1 -->\n<g id=\"edge4\" class=\"edge\">\n<title>Rho&#45;&gt;a_grp1_b_grp1</title>\n<path fill=\"none\" stroke=\"black\" d=\"M313.05,-183C306.46,-170.81 296.07,-154.58 283,-144 262.81,-127.67 236.91,-115.72 213.61,-107.35\"/>\n<polygon fill=\"black\" stroke=\"black\" points=\"214.75,-104.04 204.15,-104.09 212.47,-110.66 214.75,-104.04\"/>\n</g>\n<!-- y -->\n<g id=\"node7\" class=\"node\">\n<title>y</title>\n<ellipse fill=\"grey\" stroke=\"black\" cx=\"222\" cy=\"-18\" rx=\"27\" ry=\"18\"/>\n<text text-anchor=\"middle\" x=\"222\" y=\"-14.3\" font-family=\"Times,serif\" font-size=\"14.00\">y</text>\n</g>\n<!-- a_grp1_b_grp1&#45;&gt;y -->\n<g id=\"edge5\" class=\"edge\">\n<title>a_grp1_b_grp1&#45;&gt;y</title>\n<path fill=\"none\" stroke=\"black\" d=\"M170.46,-72.05C179.61,-62.64 191.08,-50.82 200.89,-40.74\"/>\n<polygon fill=\"black\" stroke=\"black\" points=\"203.53,-43.04 207.99,-33.42 198.51,-38.16 203.53,-43.04\"/>\n</g>\n<!-- sigma -->\n<g id=\"node6\" class=\"node\">\n<title>sigma</title>\n<ellipse fill=\"white\" stroke=\"black\" cx=\"290\" cy=\"-90\" rx=\"38.19\" ry=\"18\"/>\n<text text-anchor=\"middle\" x=\"290\" y=\"-86.3\" font-family=\"Times,serif\" font-size=\"14.00\">sigma</text>\n</g>\n<!-- sigma&#45;&gt;y -->\n<g id=\"edge6\" class=\"edge\">\n<title>sigma&#45;&gt;y</title>\n<path fill=\"none\" stroke=\"black\" d=\"M274.57,-73.12C265.36,-63.64 253.53,-51.46 243.43,-41.06\"/>\n<polygon fill=\"black\" stroke=\"black\" points=\"245.92,-38.6 236.44,-33.86 240.9,-43.48 245.92,-38.6\"/>\n</g>\n<!-- distribution_description_node -->\n<g id=\"node8\" class=\"node\">\n<title>distribution_description_node</title>\n<text text-anchor=\"start\" x=\"376\" y=\"-241.8\" font-family=\"Times,serif\" font-size=\"14.00\">a ~ Normal</text>\n<text text-anchor=\"start\" x=\"376\" y=\"-226.8\" font-family=\"Times,serif\" font-size=\"14.00\">b ~ Normal</text>\n<text text-anchor=\"start\" x=\"376\" y=\"-211.8\" font-family=\"Times,serif\" font-size=\"14.00\">sigma_grp1 ~ Exponential</text>\n<text text-anchor=\"start\" x=\"376\" y=\"-196.8\" font-family=\"Times,serif\" font-size=\"14.00\">Rho ~ LKJ</text>\n<text text-anchor=\"start\" x=\"376\" y=\"-181.8\" font-family=\"Times,serif\" font-size=\"14.00\">a_grp1_b_grp1 ~ MultivariateNormal</text>\n<text text-anchor=\"start\" x=\"376\" y=\"-166.8\" font-family=\"Times,serif\" font-size=\"14.00\">sigma ~ Exponential</text>\n<text text-anchor=\"start\" x=\"376\" y=\"-151.8\" font-family=\"Times,serif\" font-size=\"14.00\">y ~ Normal</text>\n</g>\n</g>\n</svg>\n",
      "text/plain": [
       "<graphviz.graphs.Digraph at 0x7f52ac3a0100>"
      ]
     },
     "execution_count": 5,
     "metadata": {},
     "output_type": "execute_result"
    }
   ],
   "source": [
    "grp1 = jnp.arange(1, 12, 1, dtype=int)\n",
    "x1 = jnp.ones(11)\n",
    "y = jnp.ones(11)\n",
    "numpyro.render_model(m1, model_args=(grp1, x1, y), render_distributions=True)"
   ]
  },
  {
   "cell_type": "markdown",
   "metadata": {},
   "source": [
    "Summary coefficients"
   ]
  },
  {
   "cell_type": "code",
   "execution_count": 6,
   "metadata": {},
   "outputs": [
    {
     "name": "stdout",
     "output_type": "stream",
     "text": [
      "\n",
      "                         mean       std    median      5.0%     95.0%     n_eff     r_hat\n",
      "           Rho[0,0]      1.00      0.00      1.00      1.00      1.00       nan       nan\n",
      "           Rho[0,1]     -0.45      0.24     -0.47     -0.82     -0.08    819.76      1.00\n",
      "           Rho[1,0]     -0.45      0.24     -0.47     -0.82     -0.08    819.76      1.00\n",
      "           Rho[1,1]      1.00      0.00      1.00      1.00      1.00    941.51      1.00\n",
      "                  a      0.90      0.19      0.90      0.60      1.20    733.85      1.00\n",
      " a_grp1_b_grp1[0,0]      1.35      0.07      1.35      1.24      1.47   1464.27      1.00\n",
      " a_grp1_b_grp1[0,1]      0.81      0.22      0.80      0.44      1.17   1233.19      1.00\n",
      " a_grp1_b_grp1[1,0]      1.50      0.10      1.50      1.34      1.68    838.82      1.01\n",
      " a_grp1_b_grp1[1,1]      1.56      0.32      1.55      1.08      2.10    909.22      1.00\n",
      " a_grp1_b_grp1[2,0]      0.98      0.15      0.99      0.76      1.23    726.27      1.00\n",
      " a_grp1_b_grp1[2,1]      2.49      0.46      2.50      1.66      3.12    675.92      1.00\n",
      " a_grp1_b_grp1[3,0]      1.40      0.08      1.40      1.26      1.51    891.77      1.00\n",
      " a_grp1_b_grp1[3,1]      0.43      0.21      0.42      0.08      0.77   1392.12      1.00\n",
      " a_grp1_b_grp1[4,0]     -0.05      0.09     -0.05     -0.21      0.10   1148.65      1.00\n",
      " a_grp1_b_grp1[4,1]      3.81      0.45      3.81      3.03      4.53    834.73      1.00\n",
      " a_grp1_b_grp1[5,0]      0.27      0.14      0.27      0.04      0.49    675.94      1.00\n",
      " a_grp1_b_grp1[5,1]      2.74      1.24      2.70      0.83      4.87    664.07      1.00\n",
      " a_grp1_b_grp1[6,0]      1.70      0.10      1.70      1.54      1.87    736.03      1.00\n",
      " a_grp1_b_grp1[6,1]     -0.36      0.27     -0.35     -0.80      0.10    842.02      1.00\n",
      " a_grp1_b_grp1[7,0]      0.42      0.13      0.42      0.21      0.63    854.53      1.00\n",
      " a_grp1_b_grp1[7,1]     -0.06      0.39     -0.06     -0.74      0.53    900.08      1.00\n",
      " a_grp1_b_grp1[8,0]      0.70      0.24      0.69      0.32      1.08    809.02      1.00\n",
      " a_grp1_b_grp1[8,1]      3.34      1.21      3.30      1.39      5.34    685.91      1.00\n",
      " a_grp1_b_grp1[9,0]      0.52      0.07      0.52      0.41      0.64   1309.90      1.00\n",
      " a_grp1_b_grp1[9,1]      2.54      0.55      2.55      1.66      3.45   1007.62      1.00\n",
      "a_grp1_b_grp1[10,0]      0.95      0.13      0.94      0.73      1.14   1082.62      1.00\n",
      "a_grp1_b_grp1[10,1]      1.71      0.61      1.72      0.73      2.70   1164.27      1.00\n",
      "                  b      1.65      0.47      1.65      0.92      2.46    862.43      1.00\n",
      "              sigma      0.74      0.02      0.74      0.71      0.77   1285.21      1.00\n",
      "      sigma_grp1[0]      0.61      0.15      0.59      0.40      0.83    723.52      1.00\n",
      "      sigma_grp1[1]      1.54      0.40      1.48      0.96      2.13    642.96      1.00\n",
      "\n",
      "Number of divergences: 0\n"
     ]
    }
   ],
   "source": [
    "m1_mcmc.print_summary()"
   ]
  },
  {
   "cell_type": "code",
   "execution_count": 7,
   "metadata": {},
   "outputs": [],
   "source": [
    "# Sample from posterior\n",
    "m1_post = m1_mcmc.get_samples()"
   ]
  },
  {
   "cell_type": "code",
   "execution_count": 8,
   "metadata": {},
   "outputs": [],
   "source": [
    "# To arviz\n",
    "m1_arviz = az.from_numpyro(posterior=m1_mcmc)"
   ]
  },
  {
   "cell_type": "code",
   "execution_count": 9,
   "metadata": {},
   "outputs": [
    {
     "data": {
      "image/png": "[encoded data removed]",
      "text/plain": [
       "<Figure size 900x700 with 1 Axes>"
      ]
     },
     "metadata": {},
     "output_type": "display_data"
    }
   ],
   "source": [
    "az.style.use(\"arviz-grayscale\")\n",
    "\n",
    "#centered_data = az.load_arviz_data(m1_arviz)\n",
    "#non_centered_data = az.load_arviz_data(\"non_centered_eight\")\n",
    "az.plot_forest(\n",
    "    data=m1_arviz,\n",
    "    kind=\"forestplot\",\n",
    "    combined=True,\n",
    "    #ridgeplot_overlap=3,\n",
    "    #colors='white',\n",
    "    figsize=(9, 7)\n",
    ")\n",
    "plt.show()"
   ]
  }
 ],
 "metadata": {
  "interpreter": {
   "hash": "b3f9d1db237b7e693a9303baa89abe708bdbc9a3b181ec6c492493157b686686"
  },
  "kernelspec": {
   "display_name": "Python 3.9.12 ('pytorch_pyro': conda)",
   "language": "python",
   "name": "python3"
  },
  "language_info": {
   "codemirror_mode": {
    "name": "ipython",
    "version": 3
   },
   "file_extension": ".py",
   "mimetype": "text/x-python",
   "name": "python",
   "nbconvert_exporter": "python",
   "pygments_lexer": "ipython3",
   "version": "3.9.12"
  },
  "orig_nbformat": 4
 },
 "nbformat": 4,
 "nbformat_minor": 2
}
